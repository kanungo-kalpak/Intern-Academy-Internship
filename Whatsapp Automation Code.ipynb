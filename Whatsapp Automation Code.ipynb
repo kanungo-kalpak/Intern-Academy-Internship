{
 "cells": [
  {
   "cell_type": "code",
   "execution_count": 3,
   "id": "4adb085b",
   "metadata": {},
   "outputs": [
    {
     "ename": "SyntaxError",
     "evalue": "unexpected EOF while parsing (<ipython-input-3-6b62cb8d8160>, line 2)",
     "output_type": "error",
     "traceback": [
      "\u001b[1;36m  File \u001b[1;32m\"<ipython-input-3-6b62cb8d8160>\"\u001b[1;36m, line \u001b[1;32m2\u001b[0m\n\u001b[1;33m    pwt.sendwhatmsg(\"+919874666404\",\"Hello welcome to whatsapp automation\",11,5\u001b[0m\n\u001b[1;37m                                                                               ^\u001b[0m\n\u001b[1;31mSyntaxError\u001b[0m\u001b[1;31m:\u001b[0m unexpected EOF while parsing\n"
     ]
    }
   ],
   "source": [
    "import pywhatkit as pwt\n",
    "pwt.sendwhatmsg(\"+919874666404\",\"Hello welcome to whatsapp automation\",11,5"
   ]
  },
  {
   "cell_type": "code",
   "execution_count": null,
   "id": "6aa7f6dd",
   "metadata": {},
   "outputs": [],
   "source": []
  },
  {
   "cell_type": "code",
   "execution_count": null,
   "id": "15db0864",
   "metadata": {},
   "outputs": [],
   "source": []
  }
 ],
 "metadata": {
  "kernelspec": {
   "display_name": "Python 3",
   "language": "python",
   "name": "python3"
  },
  "language_info": {
   "codemirror_mode": {
    "name": "ipython",
    "version": 3
   },
   "file_extension": ".py",
   "mimetype": "text/x-python",
   "name": "python",
   "nbconvert_exporter": "python",
   "pygments_lexer": "ipython3",
   "version": "3.9.5"
  }
 },
 "nbformat": 4,
 "nbformat_minor": 5
}
